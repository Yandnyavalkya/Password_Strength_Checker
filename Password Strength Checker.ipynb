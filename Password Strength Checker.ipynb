{
 "cells": [
  {
   "cell_type": "code",
   "execution_count": 6,
   "id": "394bfd81",
   "metadata": {},
   "outputs": [
    {
     "name": "stdout",
     "output_type": "stream",
     "text": [
      "Enter a password: ········\n",
      "Weak password\n"
     ]
    }
   ],
   "source": [
    "from getpass import getpass\n",
    "def check_password_strength(password):\n",
    "  \n",
    "    length = len(password) >= 8\n",
    "    contains_digit = any(char.isdigit() for char in password)\n",
    "    contains_lowercase = any(char.islower() for char in password)\n",
    "    contains_special_char = any(not char.isalnum() for char in password)\n",
    "    contains_uppercase = any(char.isupper() for char in password)\n",
    "    \n",
    "    if length and contains_uppercase and contains_lowercase and contains_digit and contains_special_char:\n",
    "        return \"Very Strong password\"\n",
    "    elif length and contains_uppercase and contains_lowercase and contains_digit:\n",
    "        return\"Strong Password\"\n",
    "    elif length and contains_lowercase and contains_digit:\n",
    "        return\"Moderate Password\"\n",
    "    else:\n",
    "        return \"Weak password\"\n",
    "\n",
    "\n",
    "password = getpass(\"Enter a password: \")\n",
    "strength = check_password_strength(password)\n",
    "print(strength)"
   ]
  },
  {
   "cell_type": "code",
   "execution_count": 8,
   "id": "087c5caa",
   "metadata": {},
   "outputs": [
    {
     "name": "stdout",
     "output_type": "stream",
     "text": [
      "Enter a password: ········\n",
      "Moderate Password\n"
     ]
    }
   ],
   "source": [
    "from getpass import getpass\n",
    "def check_password_strength(password):\n",
    "  \n",
    "    length = len(password) >= 8\n",
    "    contains_digit = any(char.isdigit() for char in password)\n",
    "    contains_lowercase = any(char.islower() for char in password)\n",
    "    contains_special_char = any(not char.isalnum() for char in password)\n",
    "    contains_uppercase = any(char.isupper() for char in password)\n",
    "    \n",
    "    if length and contains_uppercase and contains_lowercase and contains_digit and contains_special_char:\n",
    "        return \"Very Strong password\"\n",
    "    elif length and contains_uppercase and contains_lowercase and contains_digit:\n",
    "        return\"Strong Password\"\n",
    "    elif length and contains_lowercase and contains_digit:\n",
    "        return\"Moderate Password\"\n",
    "    else:\n",
    "        return \"Weak password\"\n",
    "\n",
    "\n",
    "password = getpass(\"Enter a password: \")\n",
    "strength = check_password_strength(password)\n",
    "print(strength)"
   ]
  },
  {
   "cell_type": "code",
   "execution_count": 9,
   "id": "d4148482",
   "metadata": {},
   "outputs": [
    {
     "name": "stdout",
     "output_type": "stream",
     "text": [
      "Enter a password: ········\n",
      "Strong Password\n"
     ]
    }
   ],
   "source": [
    "from getpass import getpass\n",
    "def check_password_strength(password):\n",
    "  \n",
    "    length = len(password) >= 8\n",
    "    contains_digit = any(char.isdigit() for char in password)\n",
    "    contains_lowercase = any(char.islower() for char in password)\n",
    "    contains_special_char = any(not char.isalnum() for char in password)\n",
    "    contains_uppercase = any(char.isupper() for char in password)\n",
    "    \n",
    "    if length and contains_uppercase and contains_lowercase and contains_digit and contains_special_char:\n",
    "        return \"Very Strong password\"\n",
    "    elif length and contains_uppercase and contains_lowercase and contains_digit:\n",
    "        return\"Strong Password\"\n",
    "    elif length and contains_lowercase and contains_digit:\n",
    "        return\"Moderate Password\"\n",
    "    else:\n",
    "        return \"Weak password\"\n",
    "\n",
    "\n",
    "password = getpass(\"Enter a password: \")\n",
    "strength = check_password_strength(password)\n",
    "print(strength)"
   ]
  },
  {
   "cell_type": "code",
   "execution_count": 10,
   "id": "a9217fa2",
   "metadata": {},
   "outputs": [
    {
     "name": "stdout",
     "output_type": "stream",
     "text": [
      "Enter a password: ········\n",
      "Very Strong password\n"
     ]
    }
   ],
   "source": [
    "from getpass import getpass\n",
    "def check_password_strength(password):\n",
    "  \n",
    "    length = len(password) >= 8\n",
    "    contains_digit = any(char.isdigit() for char in password)\n",
    "    contains_lowercase = any(char.islower() for char in password)\n",
    "    contains_special_char = any(not char.isalnum() for char in password)\n",
    "    contains_uppercase = any(char.isupper() for char in password)\n",
    "    \n",
    "    if length and contains_uppercase and contains_lowercase and contains_digit and contains_special_char:\n",
    "        return \"Very Strong password\"\n",
    "    elif length and contains_uppercase and contains_lowercase and contains_digit:\n",
    "        return\"Strong Password\"\n",
    "    elif length and contains_lowercase and contains_digit:\n",
    "        return\"Moderate Password\"\n",
    "    else:\n",
    "        return \"Weak password\"\n",
    "\n",
    "\n",
    "password = getpass(\"Enter a password: \")\n",
    "strength = check_password_strength(password)\n",
    "print(strength)"
   ]
  },
  {
   "cell_type": "code",
   "execution_count": null,
   "id": "c3b9e3d0",
   "metadata": {},
   "outputs": [],
   "source": []
  }
 ],
 "metadata": {
  "kernelspec": {
   "display_name": "Python 3 (ipykernel)",
   "language": "python",
   "name": "python3"
  },
  "language_info": {
   "codemirror_mode": {
    "name": "ipython",
    "version": 3
   },
   "file_extension": ".py",
   "mimetype": "text/x-python",
   "name": "python",
   "nbconvert_exporter": "python",
   "pygments_lexer": "ipython3",
   "version": "3.10.9"
  }
 },
 "nbformat": 4,
 "nbformat_minor": 5
}
